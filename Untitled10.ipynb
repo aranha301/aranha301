{
  "nbformat": 4,
  "nbformat_minor": 0,
  "metadata": {
    "colab": {
      "provenance": [],
      "authorship_tag": "ABX9TyPLh27g+CwRNUdLuzlNOQaD",
      "include_colab_link": true
    },
    "kernelspec": {
      "name": "python3",
      "display_name": "Python 3"
    },
    "language_info": {
      "name": "python"
    }
  },
  "cells": [
    {
      "cell_type": "markdown",
      "metadata": {
        "id": "view-in-github",
        "colab_type": "text"
      },
      "source": [
        "<a href=\"https://colab.research.google.com/github/aranha301/aranha301/blob/main/Untitled10.ipynb\" target=\"_parent\"><img src=\"https://colab.research.google.com/assets/colab-badge.svg\" alt=\"Open In Colab\"/></a>"
      ]
    },
    {
      "cell_type": "code",
      "execution_count": null,
      "metadata": {
        "id": "F2Pqn98OCdPm"
      },
      "outputs": [],
      "source": [
        "contas = {\n",
        "    \"gustavo@cp.com\": \"1234\",\n",
        "    \"anne@cp.com\": \"senha123\",\n",
        "    \"aranha@cp.com\": \"abcd\",\n",
        "    \"mafra@cp.com\": \"0000\",\n",
        "    \"gabriel@cp.com\": \"pass\",\n",
        "    \"gui@cp.com\": \"9999\"\n",
        "}\n",
        "\n",
        "def criar_conta(email, senha):\n",
        "    contas[email] = senha\n",
        "    print(f\"Conta criada para {email}\")\n",
        "\n",
        "def fazer_login(email, tentativas, senha):\n",
        "    if email in contas:\n",
        "        senha_digitada = input(\"Qual a senha? \")\n",
        "        if senha_digitada == contas[email]:\n",
        "            print(\"Você entrou\")\n",
        "        else:\n",
        "            print(\"Senha incorreta, tente novamente\")\n",
        "            tentativas = tentativas + 1\n",
        "            if tentativas < 3:\n",
        "                senha2 = input(\"Informe sua senha novamente: \")\n",
        "                fazer_login(email, tentativas, senha2)\n",
        "            else:\n",
        "                print(\"Muitas tentativas falhas. Tente mais tarde.\")\n",
        "    else:\n",
        "        if tentativas > 2:\n",
        "            print(\"Parece que você não tem uma conta. Gostaria de se cadastrar?\")\n",
        "        else:\n",
        "            print(\"Email incorreto, tente novamente\")\n",
        "            tentativas = tentativas + 1\n",
        "            email2 = input(\"Informe seu email novamente: \")\n",
        "            fazer_login(email2, tentativas, senha)\n",
        "\n",
        "fazer_login(\"aranha@cp.com\", 0, \"pass\")"
      ]
    }
  ]
}